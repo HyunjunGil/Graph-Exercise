{
  "nbformat": 4,
  "nbformat_minor": 0,
  "metadata": {
    "colab": {
      "name": "Untitled1.ipynb",
      "provenance": [],
      "collapsed_sections": [],
      "authorship_tag": "ABX9TyNVeD6EMde+9fJkiBtf5g0q",
      "include_colab_link": true
    },
    "kernelspec": {
      "display_name": "Python 3",
      "name": "python3"
    },
    "language_info": {
      "name": "python"
    }
  },
  "cells": [
    {
      "cell_type": "markdown",
      "metadata": {
        "id": "view-in-github",
        "colab_type": "text"
      },
      "source": [
        "<a href=\"https://colab.research.google.com/github/HyunjunGil/Graph-Exercise/blob/main/Untitled1.ipynb\" target=\"_parent\"><img src=\"https://colab.research.google.com/assets/colab-badge.svg\" alt=\"Open In Colab\"/></a>"
      ]
    },
    {
      "cell_type": "code",
      "metadata": {
        "colab": {
          "base_uri": "https://localhost:8080/"
        },
        "id": "Vf-joBFnSIZG",
        "outputId": "122c4749-96cd-4230-b502-5217c7014a0b"
      },
      "source": [
        "pip install scikit-network"
      ],
      "execution_count": null,
      "outputs": [
        {
          "output_type": "stream",
          "text": [
            "Requirement already satisfied: scikit-network in /usr/local/lib/python3.7/dist-packages (0.20.0)\n",
            "Requirement already satisfied: scipy>=1.4.1 in /usr/local/lib/python3.7/dist-packages (from scikit-network) (1.4.1)\n",
            "Requirement already satisfied: numpy>=1.18.3 in /usr/local/lib/python3.7/dist-packages (from scikit-network) (1.19.5)\n"
          ],
          "name": "stdout"
        }
      ]
    },
    {
      "cell_type": "code",
      "metadata": {
        "id": "TLfZx08hS3kS"
      },
      "source": [
        "import numpy as np\n",
        "from sknetwork.clustering import Louvain"
      ],
      "execution_count": null,
      "outputs": []
    },
    {
      "cell_type": "code",
      "metadata": {
        "colab": {
          "resources": {
            "http://localhost:8080/nbextensions/google.colab/files.js": {
              "data": "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",
              "headers": [
                [
                  "content-type",
                  "application/javascript"
                ]
              ],
              "ok": true,
              "status": 200,
              "status_text": ""
            }
          },
          "base_uri": "https://localhost:8080/",
          "height": 42
        },
        "id": "bnaJzldTS8jw",
        "outputId": "26d4085e-d838-4de9-de1a-ed596eaf72ca"
      },
      "source": [
        "from google.colab import files\n",
        "\n",
        "uploaded = files.upload()"
      ],
      "execution_count": null,
      "outputs": [
        {
          "output_type": "display_data",
          "data": {
            "text/html": [
              "\n",
              "     <input type=\"file\" id=\"files-7ca7f660-2189-416f-b7c7-09edf614d579\" name=\"files[]\" multiple disabled\n",
              "        style=\"border:none\" />\n",
              "     <output id=\"result-7ca7f660-2189-416f-b7c7-09edf614d579\">\n",
              "      Upload widget is only available when the cell has been executed in the\n",
              "      current browser session. Please rerun this cell to enable.\n",
              "      </output>\n",
              "      <script src=\"/nbextensions/google.colab/files.js\"></script> "
            ],
            "text/plain": [
              "<IPython.core.display.HTML object>"
            ]
          },
          "metadata": {
            "tags": []
          }
        }
      ]
    },
    {
      "cell_type": "code",
      "metadata": {
        "id": "6nR3mKbMTPBH"
      },
      "source": [
        "node_center = 107\n",
        "list_node = [node_center]\n",
        "list_edge = []\n"
      ],
      "execution_count": null,
      "outputs": []
    },
    {
      "cell_type": "code",
      "metadata": {
        "id": "5r56m5gZTY_W"
      },
      "source": [
        "f = open(str(node_center) + '.feat', 'r')\n",
        "\n",
        "for line in f.readlines():\n",
        "  linedata = line.strip().split(' ')\n",
        "  list_node.append(int(linedata[0]))\n",
        "\n",
        "f.close()"
      ],
      "execution_count": null,
      "outputs": []
    },
    {
      "cell_type": "code",
      "metadata": {
        "id": "G7HPIzCSTqmp"
      },
      "source": [
        "f = open(str(node_center) + '.edges', 'r')\n",
        "\n",
        "for line in f.readlines():\n",
        "  linedata = line.strip().split(' ')\n",
        "  list_edge.append((int(linedata[0]), int(linedata[1])))\n",
        "\n",
        "f.close()"
      ],
      "execution_count": null,
      "outputs": []
    },
    {
      "cell_type": "code",
      "metadata": {
        "id": "JWMJKJTfUKz_"
      },
      "source": [
        "for node in list_node[1:]:\n",
        "  list_edge.append((node_center, node))\n",
        "  list_edge.append((node, node_center))\n",
        "\n"
      ],
      "execution_count": null,
      "outputs": []
    },
    {
      "cell_type": "code",
      "metadata": {
        "colab": {
          "base_uri": "https://localhost:8080/"
        },
        "id": "urNWrx2xWEE3",
        "outputId": "a56b7743-de47-4575-f350-730a1f56ea79"
      },
      "source": [
        "print(\"Center node of ego-network: %s\" % node_center)\n",
        "print(\"Number of nodes in the graph: %s\" % len(list_node))\n",
        "print(\"Number of edges in the graph: %s\" %(len(list_edge) / 2))"
      ],
      "execution_count": null,
      "outputs": [
        {
          "output_type": "stream",
          "text": [
            "Center node of ego-network: 107\n",
            "Number of nodes in the graph: 1046\n",
            "Number of edges in the graph: 27794.0\n"
          ],
          "name": "stdout"
        }
      ]
    },
    {
      "cell_type": "code",
      "metadata": {
        "colab": {
          "base_uri": "https://localhost:8080/"
        },
        "id": "tZ4IMSrjf1lq",
        "outputId": "3f3087d9-037c-4a29-f613-ae97325ed1bc"
      },
      "source": [
        "\"\"\"**Step 2. Generate adjacency matrix.**\n",
        "Now we can create adjacency matrix, which is an input to the modularity optimization.\n",
        "\n",
        "Since the nodes are represented as its labels, it is hard to deal with some structures such as matrix.\n",
        "Therefore, we first make a dictionary that can be used to convert entry to index.\n",
        "\"\"\"\n",
        "\n",
        "# TODO: Make a way to map labels to its indices.\n",
        "# It can be any form, including list, dictionary, or function.\n",
        "# You may skip this step if you can construct an adjacency matrix of the graph with some other fancy ways.\n",
        "#\n",
        "# Example: If list_node = [107, 414, 833], then you have to make a way to map 107 to 0, 414 to 1, and 833 to 2.\n",
        "dict_node = dict()\n",
        "for i in range(len(list_node)):\n",
        "  dict_node[list_node[i]] = i\n",
        "\n",
        "print(dict_node)"
      ],
      "execution_count": 72,
      "outputs": [
        {
          "output_type": "stream",
          "text": [
            "{107: 0, 896: 1, 897: 2, 898: 3, 899: 4, 900: 5, 901: 6, 902: 7, 903: 8, 904: 9, 905: 10, 906: 11, 907: 12, 908: 13, 909: 14, 910: 15, 911: 16, 912: 17, 913: 18, 914: 19, 915: 20, 916: 21, 917: 22, 918: 23, 919: 24, 920: 25, 921: 26, 922: 27, 923: 28, 924: 29, 925: 30, 926: 31, 927: 32, 928: 33, 929: 34, 930: 35, 931: 36, 932: 37, 933: 38, 934: 39, 935: 40, 936: 41, 937: 42, 938: 43, 939: 44, 940: 45, 941: 46, 942: 47, 943: 48, 944: 49, 945: 50, 946: 51, 947: 52, 948: 53, 949: 54, 950: 55, 951: 56, 952: 57, 953: 58, 954: 59, 955: 60, 956: 61, 957: 62, 958: 63, 959: 64, 960: 65, 961: 66, 962: 67, 963: 68, 964: 69, 965: 70, 966: 71, 967: 72, 968: 73, 969: 74, 970: 75, 971: 76, 972: 77, 973: 78, 974: 79, 975: 80, 976: 81, 977: 82, 978: 83, 979: 84, 980: 85, 981: 86, 982: 87, 983: 88, 984: 89, 985: 90, 986: 91, 987: 92, 988: 93, 989: 94, 990: 95, 991: 96, 992: 97, 993: 98, 994: 99, 995: 100, 996: 101, 997: 102, 998: 103, 999: 104, 1000: 105, 1001: 106, 1002: 107, 1003: 108, 1004: 109, 1005: 110, 1006: 111, 1007: 112, 1008: 113, 1009: 114, 1010: 115, 1011: 116, 1012: 117, 1013: 118, 1014: 119, 1015: 120, 1016: 121, 1017: 122, 1018: 123, 1019: 124, 1020: 125, 1021: 126, 1022: 127, 1023: 128, 1024: 129, 1025: 130, 1026: 131, 1027: 132, 1028: 133, 1029: 134, 1030: 135, 1031: 136, 1032: 137, 1033: 138, 1034: 139, 58: 140, 1035: 141, 1036: 142, 1037: 143, 1038: 144, 1039: 145, 1040: 146, 1041: 147, 1042: 148, 1043: 149, 1044: 150, 1045: 151, 1046: 152, 1047: 153, 1048: 154, 1049: 155, 1050: 156, 1051: 157, 1052: 158, 1053: 159, 1054: 160, 1055: 161, 1056: 162, 1057: 163, 1058: 164, 1059: 165, 1060: 166, 1061: 167, 1062: 168, 1063: 169, 1064: 170, 1065: 171, 1066: 172, 1067: 173, 1068: 174, 1069: 175, 1070: 176, 1071: 177, 1072: 178, 1073: 179, 637: 180, 1074: 181, 1075: 182, 1076: 183, 1077: 184, 1078: 185, 1079: 186, 1080: 187, 1081: 188, 1082: 189, 1083: 190, 1084: 191, 1085: 192, 1086: 193, 1087: 194, 1088: 195, 1089: 196, 1090: 197, 1091: 198, 1092: 199, 1093: 200, 1094: 201, 1095: 202, 1096: 203, 1097: 204, 1098: 205, 1099: 206, 1100: 207, 1101: 208, 1102: 209, 1103: 210, 1104: 211, 1105: 212, 1106: 213, 1107: 214, 1108: 215, 1109: 216, 1110: 217, 1111: 218, 1112: 219, 1113: 220, 1114: 221, 1115: 222, 1116: 223, 1117: 224, 1118: 225, 1119: 226, 1120: 227, 1121: 228, 1122: 229, 1123: 230, 1124: 231, 1125: 232, 1126: 233, 1127: 234, 1128: 235, 1129: 236, 1130: 237, 1131: 238, 1132: 239, 629: 240, 1133: 241, 1134: 242, 1135: 243, 1136: 244, 1137: 245, 1138: 246, 1139: 247, 1140: 248, 1141: 249, 1142: 250, 353: 251, 1143: 252, 1144: 253, 1145: 254, 1146: 255, 1147: 256, 1148: 257, 1149: 258, 1150: 259, 1151: 260, 1152: 261, 1153: 262, 1154: 263, 1155: 264, 363: 265, 1156: 266, 1157: 267, 366: 268, 1158: 269, 1159: 270, 1160: 271, 1161: 272, 1162: 273, 1163: 274, 1164: 275, 1165: 276, 1166: 277, 1167: 278, 1168: 279, 1169: 280, 1170: 281, 1171: 282, 1172: 283, 1173: 284, 1174: 285, 1175: 286, 1176: 287, 1177: 288, 1178: 289, 1179: 290, 1180: 291, 1181: 292, 1182: 293, 1183: 294, 1184: 295, 1185: 296, 1186: 297, 1187: 298, 1188: 299, 1189: 300, 1190: 301, 1191: 302, 1192: 303, 1193: 304, 1194: 305, 1195: 306, 1196: 307, 1197: 308, 1198: 309, 1199: 310, 1200: 311, 1201: 312, 1202: 313, 606: 314, 1203: 315, 1204: 316, 1205: 317, 1206: 318, 1207: 319, 1208: 320, 1209: 321, 1210: 322, 1211: 323, 1212: 324, 1213: 325, 1214: 326, 1215: 327, 1216: 328, 1217: 329, 1218: 330, 1219: 331, 1220: 332, 1221: 333, 1222: 334, 1223: 335, 1224: 336, 1225: 337, 348: 338, 1226: 339, 1227: 340, 1228: 341, 1229: 342, 1230: 343, 1231: 344, 1232: 345, 1233: 346, 1234: 347, 1235: 348, 1236: 349, 1237: 350, 1238: 351, 483: 352, 1239: 353, 1240: 354, 1241: 355, 1242: 356, 1243: 357, 1244: 358, 1245: 359, 1246: 360, 1247: 361, 1248: 362, 1249: 363, 1250: 364, 1251: 365, 1252: 366, 1253: 367, 1254: 368, 1255: 369, 1256: 370, 1257: 371, 1258: 372, 1259: 373, 1260: 374, 1261: 375, 1262: 376, 1263: 377, 1264: 378, 1265: 379, 1266: 380, 1267: 381, 1268: 382, 1269: 383, 1270: 384, 1271: 385, 1272: 386, 1273: 387, 1274: 388, 1275: 389, 1276: 390, 1277: 391, 1278: 392, 1279: 393, 1280: 394, 1281: 395, 1282: 396, 526: 397, 1283: 398, 1284: 399, 1285: 400, 1286: 401, 1287: 402, 484: 403, 1288: 404, 1289: 405, 1290: 406, 1291: 407, 649: 408, 1292: 409, 1293: 410, 1294: 411, 1295: 412, 1296: 413, 1297: 414, 1298: 415, 1299: 416, 1300: 417, 1301: 418, 1302: 419, 1303: 420, 1304: 421, 1305: 422, 1306: 423, 1307: 424, 1308: 425, 1309: 426, 1310: 427, 1311: 428, 1312: 429, 1313: 430, 1314: 431, 1315: 432, 1316: 433, 1317: 434, 1318: 435, 1319: 436, 1320: 437, 1321: 438, 1322: 439, 1323: 440, 1324: 441, 1325: 442, 1326: 443, 1327: 444, 1328: 445, 1329: 446, 1330: 447, 1331: 448, 1332: 449, 1333: 450, 1334: 451, 1335: 452, 1336: 453, 1337: 454, 1338: 455, 1339: 456, 171: 457, 1340: 458, 1341: 459, 1342: 460, 1343: 461, 1344: 462, 1345: 463, 1346: 464, 1347: 465, 1348: 466, 1349: 467, 1350: 468, 1351: 469, 1352: 470, 1353: 471, 1354: 472, 1355: 473, 1356: 474, 1357: 475, 1358: 476, 1359: 477, 1360: 478, 1361: 479, 1362: 480, 1363: 481, 1364: 482, 566: 483, 1365: 484, 1366: 485, 1367: 486, 1368: 487, 1369: 488, 1370: 489, 1371: 490, 1372: 491, 1373: 492, 1374: 493, 1375: 494, 1376: 495, 1377: 496, 1378: 497, 1379: 498, 1380: 499, 1381: 500, 1382: 501, 1383: 502, 1384: 503, 1385: 504, 1386: 505, 1387: 506, 1388: 507, 1389: 508, 1390: 509, 1391: 510, 1392: 511, 1393: 512, 1394: 513, 1395: 514, 1396: 515, 1397: 516, 1398: 517, 1399: 518, 1400: 519, 1401: 520, 1402: 521, 1403: 522, 1404: 523, 1405: 524, 1406: 525, 1407: 526, 1408: 527, 1409: 528, 1410: 529, 1411: 530, 1412: 531, 1413: 532, 1414: 533, 1415: 534, 1416: 535, 1417: 536, 1418: 537, 1419: 538, 1420: 539, 1421: 540, 1422: 541, 1423: 542, 1424: 543, 1425: 544, 1426: 545, 1427: 546, 1428: 547, 1429: 548, 1430: 549, 1431: 550, 1432: 551, 1433: 552, 1434: 553, 1435: 554, 1436: 555, 1437: 556, 1438: 557, 1439: 558, 1440: 559, 1441: 560, 1442: 561, 1443: 562, 1444: 563, 1445: 564, 1446: 565, 1447: 566, 1448: 567, 1449: 568, 1450: 569, 1451: 570, 1452: 571, 1453: 572, 1454: 573, 1455: 574, 1456: 575, 1457: 576, 1458: 577, 1459: 578, 1460: 579, 1461: 580, 1462: 581, 1463: 582, 1464: 583, 1465: 584, 1466: 585, 1467: 586, 1468: 587, 1469: 588, 1470: 589, 1471: 590, 1472: 591, 1473: 592, 1474: 593, 1475: 594, 1476: 595, 1477: 596, 1478: 597, 1479: 598, 1480: 599, 428: 600, 1481: 601, 1482: 602, 1483: 603, 1484: 604, 1485: 605, 1486: 606, 1487: 607, 1488: 608, 1489: 609, 1490: 610, 1491: 611, 1492: 612, 1493: 613, 1494: 614, 1495: 615, 1496: 616, 1497: 617, 1498: 618, 1499: 619, 1500: 620, 1501: 621, 1502: 622, 1503: 623, 1504: 624, 1505: 625, 1506: 626, 1507: 627, 1508: 628, 1509: 629, 1510: 630, 1511: 631, 1512: 632, 1513: 633, 1514: 634, 1515: 635, 1516: 636, 1517: 637, 596: 638, 1518: 639, 1519: 640, 1520: 641, 1521: 642, 1522: 643, 1523: 644, 1524: 645, 1525: 646, 1526: 647, 1527: 648, 1528: 649, 1529: 650, 1530: 651, 1531: 652, 1532: 653, 1533: 654, 1534: 655, 1535: 656, 1536: 657, 1537: 658, 1538: 659, 1539: 660, 1540: 661, 1541: 662, 641: 663, 1542: 664, 1543: 665, 1544: 666, 1545: 667, 1546: 668, 1547: 669, 1548: 670, 1549: 671, 1550: 672, 1551: 673, 1552: 674, 1553: 675, 1554: 676, 1555: 677, 1556: 678, 1557: 679, 1558: 680, 1559: 681, 1560: 682, 1561: 683, 1562: 684, 1563: 685, 651: 686, 1564: 687, 1565: 688, 1566: 689, 389: 690, 1567: 691, 1568: 692, 1569: 693, 1570: 694, 1571: 695, 1572: 696, 1573: 697, 1574: 698, 1575: 699, 1576: 700, 1577: 701, 1578: 702, 1579: 703, 1580: 704, 1581: 705, 1582: 706, 1583: 707, 1584: 708, 1585: 709, 1586: 710, 1587: 711, 1588: 712, 1589: 713, 1590: 714, 1591: 715, 1592: 716, 1593: 717, 1594: 718, 1595: 719, 1596: 720, 1597: 721, 1598: 722, 1599: 723, 1600: 724, 1601: 725, 1602: 726, 538: 727, 1603: 728, 1604: 729, 1605: 730, 1606: 731, 1607: 732, 1608: 733, 1609: 734, 1610: 735, 1611: 736, 1612: 737, 1613: 738, 1614: 739, 1615: 740, 1616: 741, 1617: 742, 1618: 743, 1619: 744, 1620: 745, 1621: 746, 1622: 747, 1623: 748, 1624: 749, 1625: 750, 1626: 751, 1627: 752, 1628: 753, 1629: 754, 1630: 755, 1631: 756, 1632: 757, 1633: 758, 1634: 759, 1635: 760, 1636: 761, 1637: 762, 1638: 763, 1639: 764, 1640: 765, 1641: 766, 1642: 767, 1643: 768, 1644: 769, 601: 770, 1645: 771, 1646: 772, 1647: 773, 1648: 774, 1649: 775, 1650: 776, 1651: 777, 1652: 778, 1653: 779, 1654: 780, 1655: 781, 1656: 782, 1657: 783, 1658: 784, 1659: 785, 1660: 786, 1661: 787, 580: 788, 1662: 789, 1663: 790, 1664: 791, 1665: 792, 1666: 793, 1667: 794, 1668: 795, 376: 796, 1669: 797, 1670: 798, 1671: 799, 1672: 800, 1673: 801, 1674: 802, 1675: 803, 1676: 804, 1677: 805, 1678: 806, 1679: 807, 1680: 808, 1681: 809, 1682: 810, 1683: 811, 1684: 812, 1685: 813, 1686: 814, 1687: 815, 1688: 816, 1689: 817, 1690: 818, 1691: 819, 1692: 820, 1693: 821, 1694: 822, 1695: 823, 1696: 824, 1697: 825, 1698: 826, 1699: 827, 1700: 828, 1701: 829, 1702: 830, 1703: 831, 1704: 832, 1705: 833, 1706: 834, 1707: 835, 1708: 836, 1709: 837, 1710: 838, 1711: 839, 1712: 840, 1713: 841, 1714: 842, 1715: 843, 1716: 844, 1717: 845, 1718: 846, 1719: 847, 1720: 848, 1721: 849, 1722: 850, 1723: 851, 1724: 852, 1725: 853, 1726: 854, 1727: 855, 420: 856, 1728: 857, 1729: 858, 1730: 859, 1731: 860, 1732: 861, 1733: 862, 1734: 863, 1735: 864, 1736: 865, 1737: 866, 475: 867, 1738: 868, 1739: 869, 1740: 870, 1741: 871, 1742: 872, 1743: 873, 1744: 874, 1745: 875, 1746: 876, 1747: 877, 1748: 878, 1749: 879, 1750: 880, 1751: 881, 1752: 882, 1753: 883, 1754: 884, 1755: 885, 1756: 886, 1757: 887, 1758: 888, 1759: 889, 1760: 890, 1761: 891, 1762: 892, 1763: 893, 1764: 894, 1765: 895, 1766: 896, 1767: 897, 414: 898, 1768: 899, 1769: 900, 1770: 901, 1771: 902, 1772: 903, 1773: 904, 1774: 905, 1775: 906, 1776: 907, 1777: 908, 1778: 909, 1779: 910, 1780: 911, 1781: 912, 1782: 913, 1783: 914, 1784: 915, 1785: 916, 1786: 917, 1787: 918, 1788: 919, 1789: 920, 1790: 921, 1791: 922, 1792: 923, 1793: 924, 1794: 925, 1795: 926, 1796: 927, 1797: 928, 1798: 929, 1799: 930, 1800: 931, 1801: 932, 1802: 933, 1803: 934, 1804: 935, 1805: 936, 1806: 937, 1807: 938, 1808: 939, 1809: 940, 1810: 941, 1811: 942, 1812: 943, 1813: 944, 1814: 945, 1815: 946, 1816: 947, 1817: 948, 1818: 949, 1819: 950, 1820: 951, 1821: 952, 1822: 953, 1823: 954, 1824: 955, 1825: 956, 1826: 957, 1827: 958, 1828: 959, 1829: 960, 1830: 961, 1831: 962, 1832: 963, 1833: 964, 1834: 965, 1835: 966, 1836: 967, 1837: 968, 1838: 969, 1839: 970, 1840: 971, 1841: 972, 1842: 973, 1843: 974, 1844: 975, 1845: 976, 517: 977, 1846: 978, 1847: 979, 1848: 980, 0: 981, 1849: 982, 1850: 983, 1851: 984, 1852: 985, 1853: 986, 1854: 987, 1855: 988, 1856: 989, 1857: 990, 1858: 991, 1859: 992, 1860: 993, 1861: 994, 1862: 995, 1863: 996, 1864: 997, 1865: 998, 1866: 999, 1867: 1000, 1868: 1001, 1869: 1002, 1870: 1003, 1871: 1004, 1872: 1005, 1873: 1006, 1874: 1007, 1875: 1008, 1876: 1009, 1877: 1010, 1878: 1011, 1879: 1012, 1880: 1013, 1881: 1014, 1882: 1015, 1883: 1016, 1884: 1017, 1885: 1018, 1886: 1019, 1887: 1020, 1888: 1021, 1889: 1022, 1890: 1023, 1891: 1024, 1892: 1025, 1893: 1026, 1894: 1027, 1895: 1028, 1896: 1029, 1897: 1030, 563: 1031, 1898: 1032, 1899: 1033, 1900: 1034, 1901: 1035, 1902: 1036, 1903: 1037, 1904: 1038, 1905: 1039, 1906: 1040, 1907: 1041, 1908: 1042, 1909: 1043, 1910: 1044, 1911: 1045}\n"
          ],
          "name": "stdout"
        }
      ]
    },
    {
      "cell_type": "code",
      "metadata": {
        "colab": {
          "base_uri": "https://localhost:8080/"
        },
        "id": "qgLF1vCPgmLw",
        "outputId": "4f34f7e1-548e-4ddf-c7a6-e8e1e43e2511"
      },
      "source": [
        "\"\"\"Then we can construct an adjacency matrix as follows:\"\"\"\n",
        "\n",
        "# TODO: Create an adjacency matrix of the ego-network.\n",
        "# An adjacency matrix is n by n matrix where n is the number of nodes in the graph.\n",
        "# If there is an edge from node i to node j, adjacency_matrix[i][j] = 1, and 0 otherwise.\n",
        "# Type of adjacency matrix is one of: scipy.sparse.csr_matrix, np.ndarray\n",
        "\n",
        "n = len(list_node)\n",
        "\n",
        "adj_matrix = np.zeros((n,n))\n",
        "for edge in list_edge:\n",
        "  adj_matrix[dict_node[edge[0]], dict_node[edge[1]]] = 1\n",
        "\n",
        "print(adj_matrix)"
      ],
      "execution_count": 64,
      "outputs": [
        {
          "output_type": "stream",
          "text": [
            "[[0. 1. 1. ... 1. 1. 1.]\n",
            " [1. 0. 0. ... 0. 0. 0.]\n",
            " [1. 0. 0. ... 0. 0. 0.]\n",
            " ...\n",
            " [1. 0. 0. ... 0. 0. 1.]\n",
            " [1. 0. 0. ... 0. 0. 0.]\n",
            " [1. 0. 0. ... 1. 0. 0.]]\n"
          ],
          "name": "stdout"
        }
      ]
    },
    {
      "cell_type": "code",
      "metadata": {
        "colab": {
          "base_uri": "https://localhost:8080/"
        },
        "id": "s1whpY9DlhVa",
        "outputId": "5005a803-1b00-4421-af5b-589b3de3f534"
      },
      "source": [
        "\"\"\"**Step 3. Perform modularity optimization.**\n",
        "Now, we can use `sknetwork` module to perform modularity optimization.\n",
        "\n",
        "Perform modularity optimization with `sknetwork`.\n",
        "\"\"\"\n",
        "\n",
        "# TODO: Perform modularity optimization.\n",
        "# You must use Louvain, which is imported before, to perform modularity optimization.\n",
        "# Also, print the list of labels and the size of each cluster to check that your implementation is right.\n",
        "\n",
        "\n",
        "louvain = Louvain()\n",
        "labels = louvain.fit_transform(adj_matrix)\n",
        "print(labels)\n",
        "\n",
        "labels_unique, counts = np.unique(labels, return_counts = True)\n",
        "print(\"Unique labels: %s\" % labels_unique)\n",
        "print(\"Number of nodes with each label: %s\" % counts)\n"
      ],
      "execution_count": 66,
      "outputs": [
        {
          "output_type": "stream",
          "text": [
            "[1 2 0 ... 3 4 3]\n",
            "Unique labels: [0 1 2 3 4 5 6]\n",
            "Number of nodes with each label: [327 210 169 157 139  38   6]\n"
          ],
          "name": "stdout"
        }
      ]
    },
    {
      "cell_type": "code",
      "metadata": {
        "colab": {
          "base_uri": "https://localhost:8080/"
        },
        "id": "9lh4yRqDmZrB",
        "outputId": "e15c23ce-3a06-4024-9502-c0f28a900855"
      },
      "source": [
        "\"\"\"**Step 4. Calculate graph normalized cut.**\n",
        "Now we are going to calculate graph normalized cut.\n",
        "The normalized cut of a graph $G = (V, E)$ is calculated as below:\n",
        "\n",
        "$NCut(G) = \\sum_{\\mathcal{C}_1, \\ldots, \\mathcal{C}_k} \\frac{links(\\mathcal{C}_i, V \\setminus \\mathcal{C}_i)}{vol(\\mathcal{C}_i)}$, where $\\mathcal{C}_1, \\ldots, \\mathcal{C}_k$ are clusters of $G$, $links(A, B)$ is the number of edges between $A$ and $B$, and $vol(A)$ is the sum of degrees of all nodes in $A$.\n",
        "\"\"\"\n",
        "\n",
        "# TODO: Calculate graph normalized cut.\n",
        "# Calculate graph normalized cut by using cluster information from previous cells.\n",
        "\n",
        "cut = np.zeros(len(labels_unique))\n",
        "vol = np.zeros(len(labels_unique))\n",
        "\n",
        "for (u, v) in list_edge:\n",
        "  vol[labels[dict_node[u]]] += 1\n",
        "  if (labels[dict_node[u]] != labels[dict_node[v]]):\n",
        "    cut[labels[dict_node[u]]] += 1\n",
        "\n",
        "cut_normalized = cut / vol\n",
        "ncut = np.sum(cut_normalized)\n",
        "\n"
      ],
      "execution_count": 69,
      "outputs": [
        {
          "output_type": "stream",
          "text": [
            "[1153. 1592.  669.  666.  755.   74.    7.]\n",
            "[0.03575305 0.27533725 0.07357308 0.23956835 0.16604355 0.06642729\n",
            " 0.30434783]\n",
            "1.1610503839974036\n"
          ],
          "name": "stdout"
        }
      ]
    },
    {
      "cell_type": "code",
      "metadata": {
        "colab": {
          "base_uri": "https://localhost:8080/"
        },
        "id": "U5sAVIQNnbic",
        "outputId": "487600e9-5a25-427d-a993-12a011d8e964"
      },
      "source": [
        "\"\"\"We can check the results by printing values.\"\"\"\n",
        "\n",
        "# TODO: Print graph normalized cut.\n",
        "# Print graph normalized cut of the graph to check that your implementation is right.\n",
        "\n",
        "\n",
        "print(\"Cut of each cluster: %s\" % cut)\n",
        "print(\"Degree of each cluster: %s\" % vol)\n",
        "print(\"Normalized cut of each cluster: %s\" % cut_normalized)\n",
        "print(\"Graph normalized cut: %s\" % ncut)"
      ],
      "execution_count": 71,
      "outputs": [
        {
          "output_type": "stream",
          "text": [
            "Cut of each cluster: [1153. 1592.  669.  666.  755.   74.    7.]\n",
            "Degree of each cluster: [3.2249e+04 5.7820e+03 9.0930e+03 2.7800e+03 4.5470e+03 1.1140e+03\n",
            " 2.3000e+01]\n",
            "Normalized cut of each cluster: [0.03575305 0.27533725 0.07357308 0.23956835 0.16604355 0.06642729\n",
            " 0.30434783]\n",
            "Graph normalized cut: 1.1610503839974036\n"
          ],
          "name": "stdout"
        }
      ]
    }
  ]
}